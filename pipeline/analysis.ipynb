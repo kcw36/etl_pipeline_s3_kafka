{
 "cells": [
  {
   "cell_type": "markdown",
   "metadata": {},
   "source": [
    "# Museum Analysis\n",
    "\n",
    "This notebook connects to the museum database and conducts simple analysis of the data.\n",
    "\n",
    "## Imports"
   ]
  },
  {
   "cell_type": "code",
   "execution_count": 30,
   "metadata": {},
   "outputs": [],
   "source": [
    "from dotenv import load_dotenv\n",
    "from os import environ as ENV\n",
    "\n",
    "import psycopg2\n",
    "import pandas as pd\n",
    "import altair as alt"
   ]
  },
  {
   "cell_type": "markdown",
   "metadata": {},
   "source": [
    "## Setup"
   ]
  },
  {
   "cell_type": "code",
   "execution_count": 31,
   "metadata": {},
   "outputs": [
    {
     "data": {
      "text/plain": [
       "True"
      ]
     },
     "execution_count": 31,
     "metadata": {},
     "output_type": "execute_result"
    }
   ],
   "source": [
    "load_dotenv()"
   ]
  },
  {
   "cell_type": "code",
   "execution_count": 32,
   "metadata": {},
   "outputs": [],
   "source": [
    "conn = psycopg2.connect(user=ENV[\"DATABASE_USERNAME\"],\n",
    "                        password=ENV[\"DATABASE_PASSWORD\"],\n",
    "                        host=ENV[\"DATABASE_IP\"],\n",
    "                        port=ENV[\"DATABASE_PORT\"],\n",
    "                        dbname=ENV[\"DATABASE_NAME\"])"
   ]
  },
  {
   "cell_type": "markdown",
   "metadata": {},
   "source": [
    "## Load Data"
   ]
  },
  {
   "cell_type": "code",
   "execution_count": 33,
   "metadata": {},
   "outputs": [
    {
     "name": "stderr",
     "output_type": "stream",
     "text": [
      "/var/folders/rd/sh7_m8ds32lgl8y5rl2qnr_40000gn/T/ipykernel_16414/1300187427.py:5: UserWarning: pandas only supports SQLAlchemy connectable (engine/connection) or database string URI or sqlite3 DBAPI2 connection. Other DBAPI2 objects are not tested. Please consider using SQLAlchemy.\n",
      "  exh = pd.read_sql_query(query, conn)\n"
     ]
    }
   ],
   "source": [
    "with conn.cursor() as curs:\n",
    "    query = (\"\"\"\n",
    "            SELECT * FROM exhibition;\n",
    "            \"\"\")\n",
    "    exh = pd.read_sql_query(query, conn)\n",
    "    "
   ]
  },
  {
   "cell_type": "code",
   "execution_count": 34,
   "metadata": {},
   "outputs": [
    {
     "name": "stderr",
     "output_type": "stream",
     "text": [
      "/var/folders/rd/sh7_m8ds32lgl8y5rl2qnr_40000gn/T/ipykernel_16414/783772945.py:9: UserWarning: pandas only supports SQLAlchemy connectable (engine/connection) or database string URI or sqlite3 DBAPI2 connection. Other DBAPI2 objects are not tested. Please consider using SQLAlchemy.\n",
      "  exh_incident = pd.read_sql_query(query, conn)\n"
     ]
    }
   ],
   "source": [
    "with conn.cursor() as curs:\n",
    "    query = (\"\"\"\n",
    "             SELECT * FROM exhibition\n",
    "             LEFT JOIN request_interaction\n",
    "             USING (exhibition_id)\n",
    "             LEFT JOIN rating_interaction\n",
    "             USING (exhibition_id);\n",
    "            \"\"\")\n",
    "    exh_incident = pd.read_sql_query(query, conn)"
   ]
  },
  {
   "cell_type": "code",
   "execution_count": 35,
   "metadata": {},
   "outputs": [
    {
     "name": "stderr",
     "output_type": "stream",
     "text": [
      "/var/folders/rd/sh7_m8ds32lgl8y5rl2qnr_40000gn/T/ipykernel_16414/3342658643.py:7: UserWarning: pandas only supports SQLAlchemy connectable (engine/connection) or database string URI or sqlite3 DBAPI2 connection. Other DBAPI2 objects are not tested. Please consider using SQLAlchemy.\n",
      "  rating = pd.read_sql_query(query, conn)\n"
     ]
    }
   ],
   "source": [
    "with conn.cursor() as curs:\n",
    "    query = (\"\"\"\n",
    "             SELECT * FROM rating_interaction\n",
    "             LEFT JOIN rating\n",
    "             USING (rating_id);\n",
    "            \"\"\")\n",
    "    rating = pd.read_sql_query(query, conn)"
   ]
  },
  {
   "cell_type": "code",
   "execution_count": 36,
   "metadata": {},
   "outputs": [
    {
     "name": "stderr",
     "output_type": "stream",
     "text": [
      "/var/folders/rd/sh7_m8ds32lgl8y5rl2qnr_40000gn/T/ipykernel_16414/4179121845.py:7: UserWarning: pandas only supports SQLAlchemy connectable (engine/connection) or database string URI or sqlite3 DBAPI2 connection. Other DBAPI2 objects are not tested. Please consider using SQLAlchemy.\n",
      "  requests = pd.read_sql_query(query, conn)\n"
     ]
    }
   ],
   "source": [
    "with conn.cursor() as curs:\n",
    "    query = (\"\"\"\n",
    "             SELECT * FROM request_interaction\n",
    "             LEFT JOIN request\n",
    "             USING (request_id);\n",
    "            \"\"\")\n",
    "    requests = pd.read_sql_query(query, conn)"
   ]
  },
  {
   "cell_type": "code",
   "execution_count": 37,
   "metadata": {},
   "outputs": [
    {
     "name": "stderr",
     "output_type": "stream",
     "text": [
      "/var/folders/rd/sh7_m8ds32lgl8y5rl2qnr_40000gn/T/ipykernel_16414/3575413940.py:11: UserWarning: pandas only supports SQLAlchemy connectable (engine/connection) or database string URI or sqlite3 DBAPI2 connection. Other DBAPI2 objects are not tested. Please consider using SQLAlchemy.\n",
      "  exh_dep = pd.read_sql_query(query, conn)\n"
     ]
    }
   ],
   "source": [
    "with conn.cursor() as curs:\n",
    "    query = (\"\"\"\n",
    "             SELECT * FROM exhibition\n",
    "             LEFT JOIN department\n",
    "             USING (department_id)\n",
    "             LEFT JOIN rating_interaction\n",
    "             USING (exhibition_id)\n",
    "             LEFT JOIN rating\n",
    "             USING (rating_id);\n",
    "            \"\"\")\n",
    "    exh_dep = pd.read_sql_query(query, conn)"
   ]
  },
  {
   "cell_type": "markdown",
   "metadata": {},
   "source": [
    "## Exploration"
   ]
  },
  {
   "cell_type": "markdown",
   "metadata": {},
   "source": [
    "### Task 1: What exhibition is most frequently visited"
   ]
  },
  {
   "cell_type": "code",
   "execution_count": 38,
   "metadata": {},
   "outputs": [
    {
     "data": {
      "text/plain": [
       "exhibition_id\n",
       "6    13630\n",
       "4     5362\n",
       "5     5291\n",
       "1     4230\n",
       "2     2709\n",
       "3        1\n",
       "Name: count, dtype: int64"
      ]
     },
     "execution_count": 38,
     "metadata": {},
     "output_type": "execute_result"
    }
   ],
   "source": [
    "exh_incident['exhibition_id'].value_counts()"
   ]
  },
  {
   "cell_type": "code",
   "execution_count": 39,
   "metadata": {},
   "outputs": [
    {
     "data": {
      "text/html": [
       "<div>\n",
       "<style scoped>\n",
       "    .dataframe tbody tr th:only-of-type {\n",
       "        vertical-align: middle;\n",
       "    }\n",
       "\n",
       "    .dataframe tbody tr th {\n",
       "        vertical-align: top;\n",
       "    }\n",
       "\n",
       "    .dataframe thead th {\n",
       "        text-align: right;\n",
       "    }\n",
       "</style>\n",
       "<table border=\"1\" class=\"dataframe\">\n",
       "  <thead>\n",
       "    <tr style=\"text-align: right;\">\n",
       "      <th></th>\n",
       "      <th>exhibition_id</th>\n",
       "      <th>exhibition_name</th>\n",
       "      <th>exhibition_description</th>\n",
       "      <th>department_id</th>\n",
       "      <th>floor_id</th>\n",
       "      <th>exhibition_start_date</th>\n",
       "      <th>public_id</th>\n",
       "    </tr>\n",
       "  </thead>\n",
       "  <tbody>\n",
       "    <tr>\n",
       "      <th>5</th>\n",
       "      <td>6</td>\n",
       "      <td>Cetacean Sensations</td>\n",
       "      <td>Whales: from ancient myth to critically endang...</td>\n",
       "      <td>4</td>\n",
       "      <td>2</td>\n",
       "      <td>2019-07-01</td>\n",
       "      <td>EXH_03</td>\n",
       "    </tr>\n",
       "  </tbody>\n",
       "</table>\n",
       "</div>"
      ],
      "text/plain": [
       "   exhibition_id      exhibition_name  \\\n",
       "5              6  Cetacean Sensations   \n",
       "\n",
       "                              exhibition_description  department_id  floor_id  \\\n",
       "5  Whales: from ancient myth to critically endang...              4         2   \n",
       "\n",
       "  exhibition_start_date public_id  \n",
       "5            2019-07-01    EXH_03  "
      ]
     },
     "execution_count": 39,
     "metadata": {},
     "output_type": "execute_result"
    }
   ],
   "source": [
    "exh[exh['exhibition_id'] == 6]"
   ]
  },
  {
   "cell_type": "markdown",
   "metadata": {},
   "source": [
    "### Task 2: What hour of the day has the most ratings"
   ]
  },
  {
   "cell_type": "code",
   "execution_count": 40,
   "metadata": {},
   "outputs": [
    {
     "data": {
      "text/html": [
       "<div>\n",
       "<style scoped>\n",
       "    .dataframe tbody tr th:only-of-type {\n",
       "        vertical-align: middle;\n",
       "    }\n",
       "\n",
       "    .dataframe tbody tr th {\n",
       "        vertical-align: top;\n",
       "    }\n",
       "\n",
       "    .dataframe thead th {\n",
       "        text-align: right;\n",
       "    }\n",
       "</style>\n",
       "<table border=\"1\" class=\"dataframe\">\n",
       "  <thead>\n",
       "    <tr style=\"text-align: right;\">\n",
       "      <th></th>\n",
       "      <th>rating_id</th>\n",
       "      <th>rating_interaction_id</th>\n",
       "      <th>exhibition_id</th>\n",
       "      <th>event_at</th>\n",
       "      <th>rating_value</th>\n",
       "      <th>rating_description</th>\n",
       "    </tr>\n",
       "  </thead>\n",
       "  <tbody>\n",
       "    <tr>\n",
       "      <th>0</th>\n",
       "      <td>1</td>\n",
       "      <td>1</td>\n",
       "      <td>5</td>\n",
       "      <td>2023-03-06 15:09:21+00:00</td>\n",
       "      <td>0</td>\n",
       "      <td>Terrible</td>\n",
       "    </tr>\n",
       "    <tr>\n",
       "      <th>1</th>\n",
       "      <td>2</td>\n",
       "      <td>2</td>\n",
       "      <td>1</td>\n",
       "      <td>2023-03-06 17:43:27+00:00</td>\n",
       "      <td>1</td>\n",
       "      <td>Bad</td>\n",
       "    </tr>\n",
       "    <tr>\n",
       "      <th>2</th>\n",
       "      <td>4</td>\n",
       "      <td>3</td>\n",
       "      <td>1</td>\n",
       "      <td>2023-03-06 13:13:34+00:00</td>\n",
       "      <td>3</td>\n",
       "      <td>Good</td>\n",
       "    </tr>\n",
       "    <tr>\n",
       "      <th>3</th>\n",
       "      <td>4</td>\n",
       "      <td>4</td>\n",
       "      <td>2</td>\n",
       "      <td>2023-03-06 17:20:43+00:00</td>\n",
       "      <td>3</td>\n",
       "      <td>Good</td>\n",
       "    </tr>\n",
       "    <tr>\n",
       "      <th>4</th>\n",
       "      <td>2</td>\n",
       "      <td>5</td>\n",
       "      <td>5</td>\n",
       "      <td>2023-03-06 14:54:21+00:00</td>\n",
       "      <td>1</td>\n",
       "      <td>Bad</td>\n",
       "    </tr>\n",
       "  </tbody>\n",
       "</table>\n",
       "</div>"
      ],
      "text/plain": [
       "   rating_id  rating_interaction_id  exhibition_id                  event_at  \\\n",
       "0          1                      1              5 2023-03-06 15:09:21+00:00   \n",
       "1          2                      2              1 2023-03-06 17:43:27+00:00   \n",
       "2          4                      3              1 2023-03-06 13:13:34+00:00   \n",
       "3          4                      4              2 2023-03-06 17:20:43+00:00   \n",
       "4          2                      5              5 2023-03-06 14:54:21+00:00   \n",
       "\n",
       "   rating_value rating_description  \n",
       "0             0           Terrible  \n",
       "1             1                Bad  \n",
       "2             3               Good  \n",
       "3             3               Good  \n",
       "4             1                Bad  "
      ]
     },
     "execution_count": 40,
     "metadata": {},
     "output_type": "execute_result"
    }
   ],
   "source": [
    "rating.head()"
   ]
  },
  {
   "cell_type": "code",
   "execution_count": 41,
   "metadata": {},
   "outputs": [
    {
     "data": {
      "text/plain": [
       "event_at\n",
       "10    232\n",
       "13    228\n",
       "17    225\n",
       "14    223\n",
       "9     221\n",
       "Name: count, dtype: int64"
      ]
     },
     "execution_count": 41,
     "metadata": {},
     "output_type": "execute_result"
    }
   ],
   "source": [
    "rating['event_at'].dt.hour.value_counts().head()"
   ]
  },
  {
   "cell_type": "markdown",
   "metadata": {},
   "source": [
    "### Task 3: What exhibition has the most emergencies?"
   ]
  },
  {
   "cell_type": "code",
   "execution_count": 42,
   "metadata": {},
   "outputs": [
    {
     "data": {
      "text/html": [
       "<div>\n",
       "<style scoped>\n",
       "    .dataframe tbody tr th:only-of-type {\n",
       "        vertical-align: middle;\n",
       "    }\n",
       "\n",
       "    .dataframe tbody tr th {\n",
       "        vertical-align: top;\n",
       "    }\n",
       "\n",
       "    .dataframe thead th {\n",
       "        text-align: right;\n",
       "    }\n",
       "</style>\n",
       "<table border=\"1\" class=\"dataframe\">\n",
       "  <thead>\n",
       "    <tr style=\"text-align: right;\">\n",
       "      <th></th>\n",
       "      <th>request_id</th>\n",
       "      <th>request_interaction_id</th>\n",
       "      <th>exhibition_id</th>\n",
       "      <th>event_at</th>\n",
       "      <th>request_value</th>\n",
       "      <th>request_description</th>\n",
       "    </tr>\n",
       "  </thead>\n",
       "  <tbody>\n",
       "    <tr>\n",
       "      <th>0</th>\n",
       "      <td>1</td>\n",
       "      <td>1</td>\n",
       "      <td>1</td>\n",
       "      <td>2023-03-06 17:12:19+00:00</td>\n",
       "      <td>0</td>\n",
       "      <td>assistance</td>\n",
       "    </tr>\n",
       "    <tr>\n",
       "      <th>1</th>\n",
       "      <td>1</td>\n",
       "      <td>2</td>\n",
       "      <td>6</td>\n",
       "      <td>2023-03-06 14:26:42+00:00</td>\n",
       "      <td>0</td>\n",
       "      <td>assistance</td>\n",
       "    </tr>\n",
       "    <tr>\n",
       "      <th>2</th>\n",
       "      <td>1</td>\n",
       "      <td>3</td>\n",
       "      <td>4</td>\n",
       "      <td>2023-03-06 14:06:33+00:00</td>\n",
       "      <td>0</td>\n",
       "      <td>assistance</td>\n",
       "    </tr>\n",
       "    <tr>\n",
       "      <th>3</th>\n",
       "      <td>1</td>\n",
       "      <td>4</td>\n",
       "      <td>5</td>\n",
       "      <td>2023-03-06 12:56:44+00:00</td>\n",
       "      <td>0</td>\n",
       "      <td>assistance</td>\n",
       "    </tr>\n",
       "    <tr>\n",
       "      <th>4</th>\n",
       "      <td>1</td>\n",
       "      <td>5</td>\n",
       "      <td>4</td>\n",
       "      <td>2023-03-06 18:06:47+00:00</td>\n",
       "      <td>0</td>\n",
       "      <td>assistance</td>\n",
       "    </tr>\n",
       "  </tbody>\n",
       "</table>\n",
       "</div>"
      ],
      "text/plain": [
       "   request_id  request_interaction_id  exhibition_id  \\\n",
       "0           1                       1              1   \n",
       "1           1                       2              6   \n",
       "2           1                       3              4   \n",
       "3           1                       4              5   \n",
       "4           1                       5              4   \n",
       "\n",
       "                   event_at  request_value request_description  \n",
       "0 2023-03-06 17:12:19+00:00              0          assistance  \n",
       "1 2023-03-06 14:26:42+00:00              0          assistance  \n",
       "2 2023-03-06 14:06:33+00:00              0          assistance  \n",
       "3 2023-03-06 12:56:44+00:00              0          assistance  \n",
       "4 2023-03-06 18:06:47+00:00              0          assistance  "
      ]
     },
     "execution_count": 42,
     "metadata": {},
     "output_type": "execute_result"
    }
   ],
   "source": [
    "requests.head()"
   ]
  },
  {
   "cell_type": "code",
   "execution_count": 43,
   "metadata": {},
   "outputs": [
    {
     "data": {
      "text/plain": [
       "exhibition_id  request_description\n",
       "1              assistance             10\n",
       "2              assistance              9\n",
       "4              assistance             12\n",
       "               emergency               2\n",
       "5              assistance             11\n",
       "6              assistance             29\n",
       "Name: count, dtype: int64"
      ]
     },
     "execution_count": 43,
     "metadata": {},
     "output_type": "execute_result"
    }
   ],
   "source": [
    "requests.groupby(by='exhibition_id')['request_description'].value_counts()"
   ]
  },
  {
   "cell_type": "code",
   "execution_count": 44,
   "metadata": {},
   "outputs": [
    {
     "data": {
      "text/html": [
       "<div>\n",
       "<style scoped>\n",
       "    .dataframe tbody tr th:only-of-type {\n",
       "        vertical-align: middle;\n",
       "    }\n",
       "\n",
       "    .dataframe tbody tr th {\n",
       "        vertical-align: top;\n",
       "    }\n",
       "\n",
       "    .dataframe thead th {\n",
       "        text-align: right;\n",
       "    }\n",
       "</style>\n",
       "<table border=\"1\" class=\"dataframe\">\n",
       "  <thead>\n",
       "    <tr style=\"text-align: right;\">\n",
       "      <th></th>\n",
       "      <th>exhibition_id</th>\n",
       "      <th>exhibition_name</th>\n",
       "      <th>exhibition_description</th>\n",
       "      <th>department_id</th>\n",
       "      <th>floor_id</th>\n",
       "      <th>exhibition_start_date</th>\n",
       "      <th>public_id</th>\n",
       "    </tr>\n",
       "  </thead>\n",
       "  <tbody>\n",
       "    <tr>\n",
       "      <th>3</th>\n",
       "      <td>4</td>\n",
       "      <td>The Crenshaw Collection</td>\n",
       "      <td>An exhibition of 18th Century watercolours, mo...</td>\n",
       "      <td>4</td>\n",
       "      <td>3</td>\n",
       "      <td>2021-03-03</td>\n",
       "      <td>EXH_02</td>\n",
       "    </tr>\n",
       "  </tbody>\n",
       "</table>\n",
       "</div>"
      ],
      "text/plain": [
       "   exhibition_id          exhibition_name  \\\n",
       "3              4  The Crenshaw Collection   \n",
       "\n",
       "                              exhibition_description  department_id  floor_id  \\\n",
       "3  An exhibition of 18th Century watercolours, mo...              4         3   \n",
       "\n",
       "  exhibition_start_date public_id  \n",
       "3            2021-03-03    EXH_02  "
      ]
     },
     "execution_count": 44,
     "metadata": {},
     "output_type": "execute_result"
    }
   ],
   "source": [
    "exh[exh['exhibition_id'] == 4]"
   ]
  },
  {
   "cell_type": "markdown",
   "metadata": {},
   "source": [
    "### Task 4: What is the average rating for each exhibition?"
   ]
  },
  {
   "cell_type": "code",
   "execution_count": 45,
   "metadata": {},
   "outputs": [
    {
     "data": {
      "text/html": [
       "<div>\n",
       "<style scoped>\n",
       "    .dataframe tbody tr th:only-of-type {\n",
       "        vertical-align: middle;\n",
       "    }\n",
       "\n",
       "    .dataframe tbody tr th {\n",
       "        vertical-align: top;\n",
       "    }\n",
       "\n",
       "    .dataframe thead th {\n",
       "        text-align: right;\n",
       "    }\n",
       "</style>\n",
       "<table border=\"1\" class=\"dataframe\">\n",
       "  <thead>\n",
       "    <tr style=\"text-align: right;\">\n",
       "      <th></th>\n",
       "      <th>rating_id</th>\n",
       "      <th>rating_interaction_id</th>\n",
       "      <th>exhibition_id</th>\n",
       "      <th>event_at</th>\n",
       "      <th>rating_value</th>\n",
       "      <th>rating_description</th>\n",
       "    </tr>\n",
       "  </thead>\n",
       "  <tbody>\n",
       "    <tr>\n",
       "      <th>0</th>\n",
       "      <td>1</td>\n",
       "      <td>1</td>\n",
       "      <td>5</td>\n",
       "      <td>2023-03-06 15:09:21+00:00</td>\n",
       "      <td>0</td>\n",
       "      <td>Terrible</td>\n",
       "    </tr>\n",
       "    <tr>\n",
       "      <th>1</th>\n",
       "      <td>2</td>\n",
       "      <td>2</td>\n",
       "      <td>1</td>\n",
       "      <td>2023-03-06 17:43:27+00:00</td>\n",
       "      <td>1</td>\n",
       "      <td>Bad</td>\n",
       "    </tr>\n",
       "    <tr>\n",
       "      <th>2</th>\n",
       "      <td>4</td>\n",
       "      <td>3</td>\n",
       "      <td>1</td>\n",
       "      <td>2023-03-06 13:13:34+00:00</td>\n",
       "      <td>3</td>\n",
       "      <td>Good</td>\n",
       "    </tr>\n",
       "    <tr>\n",
       "      <th>3</th>\n",
       "      <td>4</td>\n",
       "      <td>4</td>\n",
       "      <td>2</td>\n",
       "      <td>2023-03-06 17:20:43+00:00</td>\n",
       "      <td>3</td>\n",
       "      <td>Good</td>\n",
       "    </tr>\n",
       "    <tr>\n",
       "      <th>4</th>\n",
       "      <td>2</td>\n",
       "      <td>5</td>\n",
       "      <td>5</td>\n",
       "      <td>2023-03-06 14:54:21+00:00</td>\n",
       "      <td>1</td>\n",
       "      <td>Bad</td>\n",
       "    </tr>\n",
       "    <tr>\n",
       "      <th>...</th>\n",
       "      <td>...</td>\n",
       "      <td>...</td>\n",
       "      <td>...</td>\n",
       "      <td>...</td>\n",
       "      <td>...</td>\n",
       "      <td>...</td>\n",
       "    </tr>\n",
       "    <tr>\n",
       "      <th>2053</th>\n",
       "      <td>1</td>\n",
       "      <td>2054</td>\n",
       "      <td>4</td>\n",
       "      <td>2023-03-06 16:10:31+00:00</td>\n",
       "      <td>0</td>\n",
       "      <td>Terrible</td>\n",
       "    </tr>\n",
       "    <tr>\n",
       "      <th>2054</th>\n",
       "      <td>3</td>\n",
       "      <td>2055</td>\n",
       "      <td>5</td>\n",
       "      <td>2023-03-06 16:10:05+00:00</td>\n",
       "      <td>2</td>\n",
       "      <td>Neutral</td>\n",
       "    </tr>\n",
       "    <tr>\n",
       "      <th>2055</th>\n",
       "      <td>4</td>\n",
       "      <td>2056</td>\n",
       "      <td>1</td>\n",
       "      <td>2023-03-06 14:27:52+00:00</td>\n",
       "      <td>3</td>\n",
       "      <td>Good</td>\n",
       "    </tr>\n",
       "    <tr>\n",
       "      <th>2056</th>\n",
       "      <td>4</td>\n",
       "      <td>2057</td>\n",
       "      <td>6</td>\n",
       "      <td>2023-03-06 10:41:17+00:00</td>\n",
       "      <td>3</td>\n",
       "      <td>Good</td>\n",
       "    </tr>\n",
       "    <tr>\n",
       "      <th>2057</th>\n",
       "      <td>3</td>\n",
       "      <td>2058</td>\n",
       "      <td>6</td>\n",
       "      <td>2023-03-06 17:42:48+00:00</td>\n",
       "      <td>2</td>\n",
       "      <td>Neutral</td>\n",
       "    </tr>\n",
       "  </tbody>\n",
       "</table>\n",
       "<p>2058 rows × 6 columns</p>\n",
       "</div>"
      ],
      "text/plain": [
       "      rating_id  rating_interaction_id  exhibition_id  \\\n",
       "0             1                      1              5   \n",
       "1             2                      2              1   \n",
       "2             4                      3              1   \n",
       "3             4                      4              2   \n",
       "4             2                      5              5   \n",
       "...         ...                    ...            ...   \n",
       "2053          1                   2054              4   \n",
       "2054          3                   2055              5   \n",
       "2055          4                   2056              1   \n",
       "2056          4                   2057              6   \n",
       "2057          3                   2058              6   \n",
       "\n",
       "                      event_at  rating_value rating_description  \n",
       "0    2023-03-06 15:09:21+00:00             0           Terrible  \n",
       "1    2023-03-06 17:43:27+00:00             1                Bad  \n",
       "2    2023-03-06 13:13:34+00:00             3               Good  \n",
       "3    2023-03-06 17:20:43+00:00             3               Good  \n",
       "4    2023-03-06 14:54:21+00:00             1                Bad  \n",
       "...                        ...           ...                ...  \n",
       "2053 2023-03-06 16:10:31+00:00             0           Terrible  \n",
       "2054 2023-03-06 16:10:05+00:00             2            Neutral  \n",
       "2055 2023-03-06 14:27:52+00:00             3               Good  \n",
       "2056 2023-03-06 10:41:17+00:00             3               Good  \n",
       "2057 2023-03-06 17:42:48+00:00             2            Neutral  \n",
       "\n",
       "[2058 rows x 6 columns]"
      ]
     },
     "execution_count": 45,
     "metadata": {},
     "output_type": "execute_result"
    }
   ],
   "source": [
    "rating"
   ]
  },
  {
   "cell_type": "code",
   "execution_count": 46,
   "metadata": {},
   "outputs": [
    {
     "data": {
      "text/plain": [
       "exhibition_id\n",
       "1    1.929078\n",
       "2    1.916944\n",
       "4    1.428198\n",
       "5    1.216216\n",
       "6    2.825532\n",
       "Name: rating_value, dtype: float64"
      ]
     },
     "execution_count": 46,
     "metadata": {},
     "output_type": "execute_result"
    }
   ],
   "source": [
    "rating.groupby('exhibition_id')['rating_value'].mean()"
   ]
  },
  {
   "cell_type": "code",
   "execution_count": 47,
   "metadata": {},
   "outputs": [
    {
     "data": {
      "text/html": [
       "<div>\n",
       "<style scoped>\n",
       "    .dataframe tbody tr th:only-of-type {\n",
       "        vertical-align: middle;\n",
       "    }\n",
       "\n",
       "    .dataframe tbody tr th {\n",
       "        vertical-align: top;\n",
       "    }\n",
       "\n",
       "    .dataframe thead th {\n",
       "        text-align: right;\n",
       "    }\n",
       "</style>\n",
       "<table border=\"1\" class=\"dataframe\">\n",
       "  <thead>\n",
       "    <tr style=\"text-align: right;\">\n",
       "      <th></th>\n",
       "      <th>exhibition_id</th>\n",
       "      <th>exhibition_name</th>\n",
       "      <th>exhibition_description</th>\n",
       "      <th>department_id</th>\n",
       "      <th>floor_id</th>\n",
       "      <th>exhibition_start_date</th>\n",
       "      <th>public_id</th>\n",
       "    </tr>\n",
       "  </thead>\n",
       "  <tbody>\n",
       "    <tr>\n",
       "      <th>5</th>\n",
       "      <td>6</td>\n",
       "      <td>Cetacean Sensations</td>\n",
       "      <td>Whales: from ancient myth to critically endang...</td>\n",
       "      <td>4</td>\n",
       "      <td>2</td>\n",
       "      <td>2019-07-01</td>\n",
       "      <td>EXH_03</td>\n",
       "    </tr>\n",
       "  </tbody>\n",
       "</table>\n",
       "</div>"
      ],
      "text/plain": [
       "   exhibition_id      exhibition_name  \\\n",
       "5              6  Cetacean Sensations   \n",
       "\n",
       "                              exhibition_description  department_id  floor_id  \\\n",
       "5  Whales: from ancient myth to critically endang...              4         2   \n",
       "\n",
       "  exhibition_start_date public_id  \n",
       "5            2019-07-01    EXH_03  "
      ]
     },
     "execution_count": 47,
     "metadata": {},
     "output_type": "execute_result"
    }
   ],
   "source": [
    "exh[exh[\"exhibition_id\"] == 6] "
   ]
  },
  {
   "cell_type": "markdown",
   "metadata": {},
   "source": [
    "### Task 5: Are positive ratings more frequent before or after 1pm"
   ]
  },
  {
   "cell_type": "code",
   "execution_count": 48,
   "metadata": {},
   "outputs": [],
   "source": [
    "bad_ratings = rating[(rating['rating_description'] == \"Terrible\") \n",
    "                     | (rating['rating_description'] == \"Bad\")]"
   ]
  },
  {
   "cell_type": "code",
   "execution_count": 49,
   "metadata": {},
   "outputs": [],
   "source": [
    "good_ratings = rating[(rating['rating_description'] == \"Good\")\n",
    "                     | (rating['rating_description'] == \"Amazing\")]"
   ]
  },
  {
   "cell_type": "code",
   "execution_count": 50,
   "metadata": {},
   "outputs": [
    {
     "data": {
      "text/plain": [
       "event_at\n",
       "False    407\n",
       "True     443\n",
       "Name: rating_description, dtype: int64"
      ]
     },
     "execution_count": 50,
     "metadata": {},
     "output_type": "execute_result"
    }
   ],
   "source": [
    "bad_ratings.groupby(by=rating['event_at'].dt.hour <= 13)['rating_description'].count()"
   ]
  },
  {
   "cell_type": "markdown",
   "metadata": {},
   "source": [
    "- True is before 1pm, False is after so the positive events are more frequent before 1pm (inclusive)"
   ]
  },
  {
   "cell_type": "code",
   "execution_count": 51,
   "metadata": {},
   "outputs": [
    {
     "data": {
      "text/plain": [
       "event_at\n",
       "False    272\n",
       "True     383\n",
       "Name: rating_description, dtype: int64"
      ]
     },
     "execution_count": 51,
     "metadata": {},
     "output_type": "execute_result"
    }
   ],
   "source": [
    "good_ratings.groupby(by=rating['event_at'].dt.hour <= 13)[\n",
    "    'rating_description'].count()"
   ]
  },
  {
   "cell_type": "markdown",
   "metadata": {},
   "source": [
    "### Task 6: Do Zoology exhibitions get better ratings than other types"
   ]
  },
  {
   "cell_type": "code",
   "execution_count": 52,
   "metadata": {},
   "outputs": [
    {
     "data": {
      "text/html": [
       "<div>\n",
       "<style scoped>\n",
       "    .dataframe tbody tr th:only-of-type {\n",
       "        vertical-align: middle;\n",
       "    }\n",
       "\n",
       "    .dataframe tbody tr th {\n",
       "        vertical-align: top;\n",
       "    }\n",
       "\n",
       "    .dataframe thead th {\n",
       "        text-align: right;\n",
       "    }\n",
       "</style>\n",
       "<table border=\"1\" class=\"dataframe\">\n",
       "  <thead>\n",
       "    <tr style=\"text-align: right;\">\n",
       "      <th></th>\n",
       "      <th>rating_id</th>\n",
       "      <th>exhibition_id</th>\n",
       "      <th>department_id</th>\n",
       "      <th>exhibition_name</th>\n",
       "      <th>exhibition_description</th>\n",
       "      <th>floor_id</th>\n",
       "      <th>exhibition_start_date</th>\n",
       "      <th>public_id</th>\n",
       "      <th>department_name</th>\n",
       "      <th>rating_interaction_id</th>\n",
       "      <th>event_at</th>\n",
       "      <th>rating_value</th>\n",
       "      <th>rating_description</th>\n",
       "    </tr>\n",
       "  </thead>\n",
       "  <tbody>\n",
       "    <tr>\n",
       "      <th>0</th>\n",
       "      <td>1.0</td>\n",
       "      <td>5</td>\n",
       "      <td>5</td>\n",
       "      <td>Our Polluted World</td>\n",
       "      <td>A hard-hitting exploration of humanity\"s impac...</td>\n",
       "      <td>4</td>\n",
       "      <td>2021-05-12</td>\n",
       "      <td>EXH_04</td>\n",
       "      <td>Ecology</td>\n",
       "      <td>1.0</td>\n",
       "      <td>2023-03-06 15:09:21+00:00</td>\n",
       "      <td>0.0</td>\n",
       "      <td>Terrible</td>\n",
       "    </tr>\n",
       "    <tr>\n",
       "      <th>1</th>\n",
       "      <td>2.0</td>\n",
       "      <td>1</td>\n",
       "      <td>1</td>\n",
       "      <td>Adaptation</td>\n",
       "      <td>How insect evolution has kept pace with an ind...</td>\n",
       "      <td>1</td>\n",
       "      <td>2019-07-01</td>\n",
       "      <td>EXH_01</td>\n",
       "      <td>Entomology</td>\n",
       "      <td>2.0</td>\n",
       "      <td>2023-03-06 17:43:27+00:00</td>\n",
       "      <td>1.0</td>\n",
       "      <td>Bad</td>\n",
       "    </tr>\n",
       "    <tr>\n",
       "      <th>2</th>\n",
       "      <td>4.0</td>\n",
       "      <td>1</td>\n",
       "      <td>1</td>\n",
       "      <td>Adaptation</td>\n",
       "      <td>How insect evolution has kept pace with an ind...</td>\n",
       "      <td>1</td>\n",
       "      <td>2019-07-01</td>\n",
       "      <td>EXH_01</td>\n",
       "      <td>Entomology</td>\n",
       "      <td>3.0</td>\n",
       "      <td>2023-03-06 13:13:34+00:00</td>\n",
       "      <td>3.0</td>\n",
       "      <td>Good</td>\n",
       "    </tr>\n",
       "    <tr>\n",
       "      <th>3</th>\n",
       "      <td>4.0</td>\n",
       "      <td>2</td>\n",
       "      <td>2</td>\n",
       "      <td>Measureless to Man</td>\n",
       "      <td>An immersive 3D experience: delve deep into a ...</td>\n",
       "      <td>2</td>\n",
       "      <td>2021-08-23</td>\n",
       "      <td>EXH_00</td>\n",
       "      <td>Geology</td>\n",
       "      <td>4.0</td>\n",
       "      <td>2023-03-06 17:20:43+00:00</td>\n",
       "      <td>3.0</td>\n",
       "      <td>Good</td>\n",
       "    </tr>\n",
       "    <tr>\n",
       "      <th>4</th>\n",
       "      <td>2.0</td>\n",
       "      <td>5</td>\n",
       "      <td>5</td>\n",
       "      <td>Our Polluted World</td>\n",
       "      <td>A hard-hitting exploration of humanity\"s impac...</td>\n",
       "      <td>4</td>\n",
       "      <td>2021-05-12</td>\n",
       "      <td>EXH_04</td>\n",
       "      <td>Ecology</td>\n",
       "      <td>5.0</td>\n",
       "      <td>2023-03-06 14:54:21+00:00</td>\n",
       "      <td>1.0</td>\n",
       "      <td>Bad</td>\n",
       "    </tr>\n",
       "    <tr>\n",
       "      <th>...</th>\n",
       "      <td>...</td>\n",
       "      <td>...</td>\n",
       "      <td>...</td>\n",
       "      <td>...</td>\n",
       "      <td>...</td>\n",
       "      <td>...</td>\n",
       "      <td>...</td>\n",
       "      <td>...</td>\n",
       "      <td>...</td>\n",
       "      <td>...</td>\n",
       "      <td>...</td>\n",
       "      <td>...</td>\n",
       "      <td>...</td>\n",
       "    </tr>\n",
       "    <tr>\n",
       "      <th>2054</th>\n",
       "      <td>3.0</td>\n",
       "      <td>5</td>\n",
       "      <td>5</td>\n",
       "      <td>Our Polluted World</td>\n",
       "      <td>A hard-hitting exploration of humanity\"s impac...</td>\n",
       "      <td>4</td>\n",
       "      <td>2021-05-12</td>\n",
       "      <td>EXH_04</td>\n",
       "      <td>Ecology</td>\n",
       "      <td>2055.0</td>\n",
       "      <td>2023-03-06 16:10:05+00:00</td>\n",
       "      <td>2.0</td>\n",
       "      <td>Neutral</td>\n",
       "    </tr>\n",
       "    <tr>\n",
       "      <th>2055</th>\n",
       "      <td>4.0</td>\n",
       "      <td>1</td>\n",
       "      <td>1</td>\n",
       "      <td>Adaptation</td>\n",
       "      <td>How insect evolution has kept pace with an ind...</td>\n",
       "      <td>1</td>\n",
       "      <td>2019-07-01</td>\n",
       "      <td>EXH_01</td>\n",
       "      <td>Entomology</td>\n",
       "      <td>2056.0</td>\n",
       "      <td>2023-03-06 14:27:52+00:00</td>\n",
       "      <td>3.0</td>\n",
       "      <td>Good</td>\n",
       "    </tr>\n",
       "    <tr>\n",
       "      <th>2056</th>\n",
       "      <td>4.0</td>\n",
       "      <td>6</td>\n",
       "      <td>4</td>\n",
       "      <td>Cetacean Sensations</td>\n",
       "      <td>Whales: from ancient myth to critically endang...</td>\n",
       "      <td>2</td>\n",
       "      <td>2019-07-01</td>\n",
       "      <td>EXH_03</td>\n",
       "      <td>Zoology</td>\n",
       "      <td>2057.0</td>\n",
       "      <td>2023-03-06 10:41:17+00:00</td>\n",
       "      <td>3.0</td>\n",
       "      <td>Good</td>\n",
       "    </tr>\n",
       "    <tr>\n",
       "      <th>2057</th>\n",
       "      <td>3.0</td>\n",
       "      <td>6</td>\n",
       "      <td>4</td>\n",
       "      <td>Cetacean Sensations</td>\n",
       "      <td>Whales: from ancient myth to critically endang...</td>\n",
       "      <td>2</td>\n",
       "      <td>2019-07-01</td>\n",
       "      <td>EXH_03</td>\n",
       "      <td>Zoology</td>\n",
       "      <td>2058.0</td>\n",
       "      <td>2023-03-06 17:42:48+00:00</td>\n",
       "      <td>2.0</td>\n",
       "      <td>Neutral</td>\n",
       "    </tr>\n",
       "    <tr>\n",
       "      <th>2058</th>\n",
       "      <td>NaN</td>\n",
       "      <td>3</td>\n",
       "      <td>3</td>\n",
       "      <td>Thunder Lizards</td>\n",
       "      <td>How new research is making scientists rethink ...</td>\n",
       "      <td>2</td>\n",
       "      <td>2023-02-01</td>\n",
       "      <td>EXH_05</td>\n",
       "      <td>Paleontology</td>\n",
       "      <td>NaN</td>\n",
       "      <td>NaT</td>\n",
       "      <td>NaN</td>\n",
       "      <td>None</td>\n",
       "    </tr>\n",
       "  </tbody>\n",
       "</table>\n",
       "<p>2059 rows × 13 columns</p>\n",
       "</div>"
      ],
      "text/plain": [
       "      rating_id  exhibition_id  department_id      exhibition_name  \\\n",
       "0           1.0              5              5   Our Polluted World   \n",
       "1           2.0              1              1           Adaptation   \n",
       "2           4.0              1              1           Adaptation   \n",
       "3           4.0              2              2   Measureless to Man   \n",
       "4           2.0              5              5   Our Polluted World   \n",
       "...         ...            ...            ...                  ...   \n",
       "2054        3.0              5              5   Our Polluted World   \n",
       "2055        4.0              1              1           Adaptation   \n",
       "2056        4.0              6              4  Cetacean Sensations   \n",
       "2057        3.0              6              4  Cetacean Sensations   \n",
       "2058        NaN              3              3      Thunder Lizards   \n",
       "\n",
       "                                 exhibition_description  floor_id  \\\n",
       "0     A hard-hitting exploration of humanity\"s impac...         4   \n",
       "1     How insect evolution has kept pace with an ind...         1   \n",
       "2     How insect evolution has kept pace with an ind...         1   \n",
       "3     An immersive 3D experience: delve deep into a ...         2   \n",
       "4     A hard-hitting exploration of humanity\"s impac...         4   \n",
       "...                                                 ...       ...   \n",
       "2054  A hard-hitting exploration of humanity\"s impac...         4   \n",
       "2055  How insect evolution has kept pace with an ind...         1   \n",
       "2056  Whales: from ancient myth to critically endang...         2   \n",
       "2057  Whales: from ancient myth to critically endang...         2   \n",
       "2058  How new research is making scientists rethink ...         2   \n",
       "\n",
       "     exhibition_start_date public_id department_name  rating_interaction_id  \\\n",
       "0               2021-05-12    EXH_04         Ecology                    1.0   \n",
       "1               2019-07-01    EXH_01      Entomology                    2.0   \n",
       "2               2019-07-01    EXH_01      Entomology                    3.0   \n",
       "3               2021-08-23    EXH_00         Geology                    4.0   \n",
       "4               2021-05-12    EXH_04         Ecology                    5.0   \n",
       "...                    ...       ...             ...                    ...   \n",
       "2054            2021-05-12    EXH_04         Ecology                 2055.0   \n",
       "2055            2019-07-01    EXH_01      Entomology                 2056.0   \n",
       "2056            2019-07-01    EXH_03         Zoology                 2057.0   \n",
       "2057            2019-07-01    EXH_03         Zoology                 2058.0   \n",
       "2058            2023-02-01    EXH_05    Paleontology                    NaN   \n",
       "\n",
       "                      event_at  rating_value rating_description  \n",
       "0    2023-03-06 15:09:21+00:00           0.0           Terrible  \n",
       "1    2023-03-06 17:43:27+00:00           1.0                Bad  \n",
       "2    2023-03-06 13:13:34+00:00           3.0               Good  \n",
       "3    2023-03-06 17:20:43+00:00           3.0               Good  \n",
       "4    2023-03-06 14:54:21+00:00           1.0                Bad  \n",
       "...                        ...           ...                ...  \n",
       "2054 2023-03-06 16:10:05+00:00           2.0            Neutral  \n",
       "2055 2023-03-06 14:27:52+00:00           3.0               Good  \n",
       "2056 2023-03-06 10:41:17+00:00           3.0               Good  \n",
       "2057 2023-03-06 17:42:48+00:00           2.0            Neutral  \n",
       "2058                       NaT           NaN               None  \n",
       "\n",
       "[2059 rows x 13 columns]"
      ]
     },
     "execution_count": 52,
     "metadata": {},
     "output_type": "execute_result"
    }
   ],
   "source": [
    "exh_dep"
   ]
  },
  {
   "cell_type": "code",
   "execution_count": 53,
   "metadata": {},
   "outputs": [
    {
     "data": {
      "text/plain": [
       "department_name\n",
       "Zoology         853\n",
       "Ecology         481\n",
       "Entomology      423\n",
       "Geology         301\n",
       "Paleontology      1\n",
       "Name: count, dtype: int64"
      ]
     },
     "execution_count": 53,
     "metadata": {},
     "output_type": "execute_result"
    }
   ],
   "source": [
    "exh_dep['department_name'].value_counts()"
   ]
  },
  {
   "cell_type": "code",
   "execution_count": 54,
   "metadata": {},
   "outputs": [
    {
     "data": {
      "text/plain": [
       "department_name\n",
       "Ecology         1.216216\n",
       "Entomology      1.929078\n",
       "Geology         1.916944\n",
       "Paleontology         NaN\n",
       "Zoology         2.198124\n",
       "Name: rating_value, dtype: float64"
      ]
     },
     "execution_count": 54,
     "metadata": {},
     "output_type": "execute_result"
    }
   ],
   "source": [
    "exh_dep.groupby(by='department_name')['rating_value'].mean()"
   ]
  },
  {
   "cell_type": "code",
   "execution_count": 55,
   "metadata": {},
   "outputs": [],
   "source": [
    "department_ratings = exh_dep.groupby(by='department_name')['rating_value'].value_counts().reset_index()"
   ]
  },
  {
   "cell_type": "code",
   "execution_count": 56,
   "metadata": {},
   "outputs": [
    {
     "data": {
      "text/html": [
       "<div>\n",
       "<style scoped>\n",
       "    .dataframe tbody tr th:only-of-type {\n",
       "        vertical-align: middle;\n",
       "    }\n",
       "\n",
       "    .dataframe tbody tr th {\n",
       "        vertical-align: top;\n",
       "    }\n",
       "\n",
       "    .dataframe thead th {\n",
       "        text-align: right;\n",
       "    }\n",
       "</style>\n",
       "<table border=\"1\" class=\"dataframe\">\n",
       "  <thead>\n",
       "    <tr style=\"text-align: right;\">\n",
       "      <th></th>\n",
       "      <th>department_name</th>\n",
       "      <th>rating_value</th>\n",
       "      <th>count</th>\n",
       "    </tr>\n",
       "  </thead>\n",
       "  <tbody>\n",
       "    <tr>\n",
       "      <th>0</th>\n",
       "      <td>Ecology</td>\n",
       "      <td>0.0</td>\n",
       "      <td>166</td>\n",
       "    </tr>\n",
       "    <tr>\n",
       "      <th>1</th>\n",
       "      <td>Ecology</td>\n",
       "      <td>1.0</td>\n",
       "      <td>142</td>\n",
       "    </tr>\n",
       "    <tr>\n",
       "      <th>2</th>\n",
       "      <td>Ecology</td>\n",
       "      <td>2.0</td>\n",
       "      <td>113</td>\n",
       "    </tr>\n",
       "    <tr>\n",
       "      <th>3</th>\n",
       "      <td>Ecology</td>\n",
       "      <td>4.0</td>\n",
       "      <td>37</td>\n",
       "    </tr>\n",
       "    <tr>\n",
       "      <th>4</th>\n",
       "      <td>Ecology</td>\n",
       "      <td>3.0</td>\n",
       "      <td>23</td>\n",
       "    </tr>\n",
       "  </tbody>\n",
       "</table>\n",
       "</div>"
      ],
      "text/plain": [
       "  department_name  rating_value  count\n",
       "0         Ecology           0.0    166\n",
       "1         Ecology           1.0    142\n",
       "2         Ecology           2.0    113\n",
       "3         Ecology           4.0     37\n",
       "4         Ecology           3.0     23"
      ]
     },
     "execution_count": 56,
     "metadata": {},
     "output_type": "execute_result"
    }
   ],
   "source": [
    "department_ratings.head()"
   ]
  },
  {
   "cell_type": "code",
   "execution_count": 57,
   "metadata": {},
   "outputs": [
    {
     "data": {
      "text/html": [
       "\n",
       "<style>\n",
       "  #altair-viz-a26f17ac311f4966b7d46aed10cad286.vega-embed {\n",
       "    width: 100%;\n",
       "    display: flex;\n",
       "  }\n",
       "\n",
       "  #altair-viz-a26f17ac311f4966b7d46aed10cad286.vega-embed details,\n",
       "  #altair-viz-a26f17ac311f4966b7d46aed10cad286.vega-embed details summary {\n",
       "    position: relative;\n",
       "  }\n",
       "</style>\n",
       "<div id=\"altair-viz-a26f17ac311f4966b7d46aed10cad286\"></div>\n",
       "<script type=\"text/javascript\">\n",
       "  var VEGA_DEBUG = (typeof VEGA_DEBUG == \"undefined\") ? {} : VEGA_DEBUG;\n",
       "  (function(spec, embedOpt){\n",
       "    let outputDiv = document.currentScript.previousElementSibling;\n",
       "    if (outputDiv.id !== \"altair-viz-a26f17ac311f4966b7d46aed10cad286\") {\n",
       "      outputDiv = document.getElementById(\"altair-viz-a26f17ac311f4966b7d46aed10cad286\");\n",
       "    }\n",
       "\n",
       "    const paths = {\n",
       "      \"vega\": \"https://cdn.jsdelivr.net/npm/vega@5?noext\",\n",
       "      \"vega-lib\": \"https://cdn.jsdelivr.net/npm/vega-lib?noext\",\n",
       "      \"vega-lite\": \"https://cdn.jsdelivr.net/npm/vega-lite@5.20.1?noext\",\n",
       "      \"vega-embed\": \"https://cdn.jsdelivr.net/npm/vega-embed@6?noext\",\n",
       "    };\n",
       "\n",
       "    function maybeLoadScript(lib, version) {\n",
       "      var key = `${lib.replace(\"-\", \"\")}_version`;\n",
       "      return (VEGA_DEBUG[key] == version) ?\n",
       "        Promise.resolve(paths[lib]) :\n",
       "        new Promise(function(resolve, reject) {\n",
       "          var s = document.createElement('script');\n",
       "          document.getElementsByTagName(\"head\")[0].appendChild(s);\n",
       "          s.async = true;\n",
       "          s.onload = () => {\n",
       "            VEGA_DEBUG[key] = version;\n",
       "            return resolve(paths[lib]);\n",
       "          };\n",
       "          s.onerror = () => reject(`Error loading script: ${paths[lib]}`);\n",
       "          s.src = paths[lib];\n",
       "        });\n",
       "    }\n",
       "\n",
       "    function showError(err) {\n",
       "      outputDiv.innerHTML = `<div class=\"error\" style=\"color:red;\">${err}</div>`;\n",
       "      throw err;\n",
       "    }\n",
       "\n",
       "    function displayChart(vegaEmbed) {\n",
       "      vegaEmbed(outputDiv, spec, embedOpt)\n",
       "        .catch(err => showError(`Javascript Error: ${err.message}<br>This usually means there's a typo in your chart specification. See the javascript console for the full traceback.`));\n",
       "    }\n",
       "\n",
       "    if(typeof define === \"function\" && define.amd) {\n",
       "      requirejs.config({paths});\n",
       "      let deps = [\"vega-embed\"];\n",
       "      require(deps, displayChart, err => showError(`Error loading script: ${err.message}`));\n",
       "    } else {\n",
       "      maybeLoadScript(\"vega\", \"5\")\n",
       "        .then(() => maybeLoadScript(\"vega-lite\", \"5.20.1\"))\n",
       "        .then(() => maybeLoadScript(\"vega-embed\", \"6\"))\n",
       "        .catch(showError)\n",
       "        .then(() => displayChart(vegaEmbed));\n",
       "    }\n",
       "  })({\"config\": {\"view\": {\"continuousWidth\": 300, \"continuousHeight\": 300}}, \"data\": {\"name\": \"data-c8a3c2a136061702c769ee9a3bc6f3f9\"}, \"mark\": {\"type\": \"bar\"}, \"encoding\": {\"color\": {\"field\": \"rating_value\", \"type\": \"quantitative\"}, \"column\": {\"field\": \"department_name\", \"type\": \"nominal\"}, \"x\": {\"field\": \"rating_value\", \"type\": \"nominal\"}, \"y\": {\"field\": \"count\", \"type\": \"quantitative\"}}, \"$schema\": \"https://vega.github.io/schema/vega-lite/v5.20.1.json\", \"datasets\": {\"data-c8a3c2a136061702c769ee9a3bc6f3f9\": [{\"department_name\": \"Ecology\", \"rating_value\": 0.0, \"count\": 166}, {\"department_name\": \"Ecology\", \"rating_value\": 1.0, \"count\": 142}, {\"department_name\": \"Ecology\", \"rating_value\": 2.0, \"count\": 113}, {\"department_name\": \"Ecology\", \"rating_value\": 4.0, \"count\": 37}, {\"department_name\": \"Ecology\", \"rating_value\": 3.0, \"count\": 23}, {\"department_name\": \"Entomology\", \"rating_value\": 2.0, \"count\": 146}, {\"department_name\": \"Entomology\", \"rating_value\": 1.0, \"count\": 139}, {\"department_name\": \"Entomology\", \"rating_value\": 3.0, \"count\": 95}, {\"department_name\": \"Entomology\", \"rating_value\": 4.0, \"count\": 25}, {\"department_name\": \"Entomology\", \"rating_value\": 0.0, \"count\": 18}, {\"department_name\": \"Geology\", \"rating_value\": 2.0, \"count\": 92}, {\"department_name\": \"Geology\", \"rating_value\": 3.0, \"count\": 80}, {\"department_name\": \"Geology\", \"rating_value\": 1.0, \"count\": 77}, {\"department_name\": \"Geology\", \"rating_value\": 0.0, \"count\": 33}, {\"department_name\": \"Geology\", \"rating_value\": 4.0, \"count\": 19}, {\"department_name\": \"Zoology\", \"rating_value\": 4.0, \"count\": 204}, {\"department_name\": \"Zoology\", \"rating_value\": 2.0, \"count\": 202}, {\"department_name\": \"Zoology\", \"rating_value\": 3.0, \"count\": 172}, {\"department_name\": \"Zoology\", \"rating_value\": 1.0, \"count\": 139}, {\"department_name\": \"Zoology\", \"rating_value\": 0.0, \"count\": 136}]}}, {\"mode\": \"vega-lite\"});\n",
       "</script>"
      ],
      "text/plain": [
       "alt.Chart(...)"
      ]
     },
     "execution_count": 57,
     "metadata": {},
     "output_type": "execute_result"
    }
   ],
   "source": [
    "alt.Chart(department_ratings).mark_bar().encode(\n",
    "    x='rating_value:N',\n",
    "    y='count:Q',\n",
    "    color='rating_value',\n",
    "    column='department_name'\n",
    ")"
   ]
  },
  {
   "cell_type": "code",
   "execution_count": null,
   "metadata": {},
   "outputs": [],
   "source": []
  }
 ],
 "metadata": {
  "kernelspec": {
   "display_name": ".venv",
   "language": "python",
   "name": "python3"
  },
  "language_info": {
   "codemirror_mode": {
    "name": "ipython",
    "version": 3
   },
   "file_extension": ".py",
   "mimetype": "text/x-python",
   "name": "python",
   "nbconvert_exporter": "python",
   "pygments_lexer": "ipython3",
   "version": "3.12.9"
  }
 },
 "nbformat": 4,
 "nbformat_minor": 2
}
